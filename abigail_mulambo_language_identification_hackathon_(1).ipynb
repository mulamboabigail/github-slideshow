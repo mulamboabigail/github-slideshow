{
  "cells": [
    {
      "cell_type": "markdown",
      "metadata": {
        "id": "view-in-github",
        "colab_type": "text"
      },
      "source": [
        "<a href=\"https://colab.research.google.com/github/mulamboabigail/github-slideshow/blob/master/abigail_mulambo_language_identification_hackathon_(1).ipynb\" target=\"_parent\"><img src=\"https://colab.research.google.com/assets/colab-badge.svg\" alt=\"Open In Colab\"/></a>"
      ]
    },
    {
      "cell_type": "code",
      "execution_count": null,
      "metadata": {
        "_cell_guid": "b1076dfc-b9ad-4769-8c92-a6c4dae69d19",
        "_uuid": "8f2839f25d086af736a60e9eeb907d3b93b6e0e5",
        "execution": {
          "iopub.execute_input": "2021-12-05T20:20:02.373553Z",
          "iopub.status.busy": "2021-12-05T20:20:02.373116Z",
          "iopub.status.idle": "2021-12-05T20:20:02.385724Z",
          "shell.execute_reply": "2021-12-05T20:20:02.384444Z",
          "shell.execute_reply.started": "2021-12-05T20:20:02.373513Z"
        },
        "id": "NY6Kw9NzrPQj"
      },
      "outputs": [],
      "source": [
        "# This Python 3 environment comes with many helpful analytics libraries installed\n",
        "# It is defined by the kaggle/python Docker image: https://github.com/kaggle/docker-python\n",
        "# For example, here's several helpful packages to load\n",
        "\n",
        "import numpy as np # linear algebra\n",
        "import pandas as pd # data processing, CSV file I/O (e.g. pd.read_csv)\n",
        "\n",
        "# Input data files are available in the read-only \"../input/\" directory\n",
        "# For example, running this (by clicking run or pressing Shift+Enter) will list all files under the input directory\n",
        "\n",
        "import os\n",
        "for dirname, _, filenames in os.walk('/kaggle/input'):\n",
        "    for filename in filenames:\n",
        "        print(os.path.join(dirname, filename))\n",
        "\n",
        "# You can write up to 20GB to the current directory (/kaggle/working/) that gets preserved as output when you create a version using \"Save & Run All\" \n",
        "# You can also write temporary files to /kaggle/temp/, but they won't be saved outside of the current session"
      ]
    },
    {
      "cell_type": "code",
      "execution_count": null,
      "metadata": {
        "execution": {
          "iopub.execute_input": "2021-12-05T20:20:02.388343Z",
          "iopub.status.busy": "2021-12-05T20:20:02.387819Z",
          "iopub.status.idle": "2021-12-05T20:20:02.396644Z",
          "shell.execute_reply": "2021-12-05T20:20:02.395991Z",
          "shell.execute_reply.started": "2021-12-05T20:20:02.388296Z"
        },
        "id": "SlmcbLL2rPQn"
      },
      "outputs": [],
      "source": [
        "import nltk\n",
        "\n",
        "import numpy as np\n",
        "import pandas as pd\n",
        "\n",
        "import matplotlib.pyplot as plt\n",
        "%matplotlib inline\n",
        "import seaborn as sns\n",
        "import re"
      ]
    },
    {
      "cell_type": "code",
      "execution_count": null,
      "metadata": {
        "id": "3TI33RBrrPQo"
      },
      "outputs": [],
      "source": [
        "df_sample_submission = pd.read_csv('sample_submission.csv')"
      ]
    },
    {
      "cell_type": "code",
      "execution_count": null,
      "metadata": {
        "execution": {
          "iopub.execute_input": "2021-12-05T20:20:02.398548Z",
          "iopub.status.busy": "2021-12-05T20:20:02.398056Z",
          "iopub.status.idle": "2021-12-05T20:20:02.567518Z",
          "shell.execute_reply": "2021-12-05T20:20:02.566593Z",
          "shell.execute_reply.started": "2021-12-05T20:20:02.398505Z"
        },
        "id": "PZDjcsBbrPQp"
      },
      "outputs": [],
      "source": [
        "df_test_set = pd.read_csv('test_set.csv')\n",
        "df_train_set = pd.read_csv('train_sett.csv')"
      ]
    },
    {
      "cell_type": "code",
      "execution_count": null,
      "metadata": {
        "execution": {
          "iopub.execute_input": "2021-12-05T20:20:02.569764Z",
          "iopub.status.busy": "2021-12-05T20:20:02.569502Z",
          "iopub.status.idle": "2021-12-05T20:20:02.578279Z",
          "shell.execute_reply": "2021-12-05T20:20:02.577167Z",
          "shell.execute_reply.started": "2021-12-05T20:20:02.569729Z"
        },
        "id": "cTsofC-zrPQp",
        "outputId": "4ca772f5-0437-4f1d-80b0-3012f31cb9c0"
      },
      "outputs": [
        {
          "data": {
            "text/html": [
              "<div>\n",
              "<style scoped>\n",
              "    .dataframe tbody tr th:only-of-type {\n",
              "        vertical-align: middle;\n",
              "    }\n",
              "\n",
              "    .dataframe tbody tr th {\n",
              "        vertical-align: top;\n",
              "    }\n",
              "\n",
              "    .dataframe thead th {\n",
              "        text-align: right;\n",
              "    }\n",
              "</style>\n",
              "<table border=\"1\" class=\"dataframe\">\n",
              "  <thead>\n",
              "    <tr style=\"text-align: right;\">\n",
              "      <th></th>\n",
              "      <th>index</th>\n",
              "      <th>lang_id</th>\n",
              "    </tr>\n",
              "  </thead>\n",
              "  <tbody>\n",
              "    <tr>\n",
              "      <th>0</th>\n",
              "      <td>1</td>\n",
              "      <td>tsn</td>\n",
              "    </tr>\n",
              "    <tr>\n",
              "      <th>1</th>\n",
              "      <td>2</td>\n",
              "      <td>nbl</td>\n",
              "    </tr>\n",
              "  </tbody>\n",
              "</table>\n",
              "</div>"
            ],
            "text/plain": [
              "   index lang_id\n",
              "0      1     tsn\n",
              "1      2     nbl"
            ]
          },
          "execution_count": 5,
          "metadata": {},
          "output_type": "execute_result"
        }
      ],
      "source": [
        "df_sample_submission.head()"
      ]
    },
    {
      "cell_type": "code",
      "execution_count": null,
      "metadata": {
        "execution": {
          "iopub.execute_input": "2021-12-05T20:20:02.580002Z",
          "iopub.status.busy": "2021-12-05T20:20:02.579774Z",
          "iopub.status.idle": "2021-12-05T20:20:02.593324Z",
          "shell.execute_reply": "2021-12-05T20:20:02.592588Z",
          "shell.execute_reply.started": "2021-12-05T20:20:02.579974Z"
        },
        "id": "1TEzSflmrPQq",
        "outputId": "3e331a88-d87b-4724-a5b2-fe1ad1b31a56"
      },
      "outputs": [
        {
          "data": {
            "text/plain": [
              "Index(['index', 'lang_id'], dtype='object')"
            ]
          },
          "execution_count": 6,
          "metadata": {},
          "output_type": "execute_result"
        }
      ],
      "source": [
        "df_sample_submission.columns"
      ]
    },
    {
      "cell_type": "code",
      "execution_count": null,
      "metadata": {
        "execution": {
          "iopub.execute_input": "2021-12-05T20:20:02.595220Z",
          "iopub.status.busy": "2021-12-05T20:20:02.594762Z",
          "iopub.status.idle": "2021-12-05T20:20:02.610317Z",
          "shell.execute_reply": "2021-12-05T20:20:02.609638Z",
          "shell.execute_reply.started": "2021-12-05T20:20:02.595180Z"
        },
        "id": "PIxgrGmxrPQr",
        "outputId": "4f5fab1d-124f-40f3-c320-5be4c21e6a63"
      },
      "outputs": [
        {
          "data": {
            "text/html": [
              "<div>\n",
              "<style scoped>\n",
              "    .dataframe tbody tr th:only-of-type {\n",
              "        vertical-align: middle;\n",
              "    }\n",
              "\n",
              "    .dataframe tbody tr th {\n",
              "        vertical-align: top;\n",
              "    }\n",
              "\n",
              "    .dataframe thead th {\n",
              "        text-align: right;\n",
              "    }\n",
              "</style>\n",
              "<table border=\"1\" class=\"dataframe\">\n",
              "  <thead>\n",
              "    <tr style=\"text-align: right;\">\n",
              "      <th></th>\n",
              "      <th>lang_id</th>\n",
              "      <th>text</th>\n",
              "    </tr>\n",
              "  </thead>\n",
              "  <tbody>\n",
              "    <tr>\n",
              "      <th>0</th>\n",
              "      <td>xho</td>\n",
              "      <td>umgaqo-siseko wenza amalungiselelo kumaziko ax...</td>\n",
              "    </tr>\n",
              "    <tr>\n",
              "      <th>1</th>\n",
              "      <td>xho</td>\n",
              "      <td>i-dha iya kuba nobulumko bokubeka umsebenzi na...</td>\n",
              "    </tr>\n",
              "    <tr>\n",
              "      <th>2</th>\n",
              "      <td>eng</td>\n",
              "      <td>the province of kwazulu-natal department of tr...</td>\n",
              "    </tr>\n",
              "    <tr>\n",
              "      <th>3</th>\n",
              "      <td>nso</td>\n",
              "      <td>o netefatša gore o ba file dilo ka moka tše le...</td>\n",
              "    </tr>\n",
              "    <tr>\n",
              "      <th>4</th>\n",
              "      <td>ven</td>\n",
              "      <td>khomishini ya ndinganyiso ya mbeu yo ewa maana...</td>\n",
              "    </tr>\n",
              "  </tbody>\n",
              "</table>\n",
              "</div>"
            ],
            "text/plain": [
              "  lang_id                                               text\n",
              "0     xho  umgaqo-siseko wenza amalungiselelo kumaziko ax...\n",
              "1     xho  i-dha iya kuba nobulumko bokubeka umsebenzi na...\n",
              "2     eng  the province of kwazulu-natal department of tr...\n",
              "3     nso  o netefatša gore o ba file dilo ka moka tše le...\n",
              "4     ven  khomishini ya ndinganyiso ya mbeu yo ewa maana..."
            ]
          },
          "execution_count": 7,
          "metadata": {},
          "output_type": "execute_result"
        }
      ],
      "source": [
        "df_train_set.head()"
      ]
    },
    {
      "cell_type": "code",
      "execution_count": null,
      "metadata": {
        "id": "_IclCYMsrPQr",
        "outputId": "d569e63e-07c3-4ea7-ca98-3036fdcd1352"
      },
      "outputs": [
        {
          "data": {
            "text/html": [
              "<div>\n",
              "<style scoped>\n",
              "    .dataframe tbody tr th:only-of-type {\n",
              "        vertical-align: middle;\n",
              "    }\n",
              "\n",
              "    .dataframe tbody tr th {\n",
              "        vertical-align: top;\n",
              "    }\n",
              "\n",
              "    .dataframe thead th {\n",
              "        text-align: right;\n",
              "    }\n",
              "</style>\n",
              "<table border=\"1\" class=\"dataframe\">\n",
              "  <thead>\n",
              "    <tr style=\"text-align: right;\">\n",
              "      <th></th>\n",
              "      <th>index</th>\n",
              "      <th>text</th>\n",
              "    </tr>\n",
              "  </thead>\n",
              "  <tbody>\n",
              "    <tr>\n",
              "      <th>0</th>\n",
              "      <td>1</td>\n",
              "      <td>Mmasepala, fa maemo a a kgethegileng a letlele...</td>\n",
              "    </tr>\n",
              "    <tr>\n",
              "      <th>1</th>\n",
              "      <td>2</td>\n",
              "      <td>Uzakwaziswa ngokufaneleko nakungafuneka eminye...</td>\n",
              "    </tr>\n",
              "    <tr>\n",
              "      <th>2</th>\n",
              "      <td>3</td>\n",
              "      <td>Tshivhumbeo tshi fana na ngano dza vhathu.</td>\n",
              "    </tr>\n",
              "    <tr>\n",
              "      <th>3</th>\n",
              "      <td>4</td>\n",
              "      <td>Kube inja nelikati betingevakala kutsi titsini...</td>\n",
              "    </tr>\n",
              "    <tr>\n",
              "      <th>4</th>\n",
              "      <td>5</td>\n",
              "      <td>Winste op buitelandse valuta.</td>\n",
              "    </tr>\n",
              "  </tbody>\n",
              "</table>\n",
              "</div>"
            ],
            "text/plain": [
              "   index                                               text\n",
              "0      1  Mmasepala, fa maemo a a kgethegileng a letlele...\n",
              "1      2  Uzakwaziswa ngokufaneleko nakungafuneka eminye...\n",
              "2      3         Tshivhumbeo tshi fana na ngano dza vhathu.\n",
              "3      4  Kube inja nelikati betingevakala kutsi titsini...\n",
              "4      5                      Winste op buitelandse valuta."
            ]
          },
          "execution_count": 8,
          "metadata": {},
          "output_type": "execute_result"
        }
      ],
      "source": [
        "df_test_set.head()"
      ]
    },
    {
      "cell_type": "code",
      "execution_count": null,
      "metadata": {
        "execution": {
          "iopub.execute_input": "2021-12-05T20:20:02.626602Z",
          "iopub.status.busy": "2021-12-05T20:20:02.626150Z",
          "iopub.status.idle": "2021-12-05T20:20:02.647951Z",
          "shell.execute_reply": "2021-12-05T20:20:02.647198Z",
          "shell.execute_reply.started": "2021-12-05T20:20:02.626562Z"
        },
        "id": "f-o6NHUzrPQs"
      },
      "outputs": [],
      "source": [
        "a = df_train_set[['lang_id', 'text']].groupby('lang_id').count()"
      ]
    },
    {
      "cell_type": "code",
      "execution_count": null,
      "metadata": {
        "execution": {
          "iopub.execute_input": "2021-12-05T20:20:02.649897Z",
          "iopub.status.busy": "2021-12-05T20:20:02.649602Z",
          "iopub.status.idle": "2021-12-05T20:20:02.895218Z",
          "shell.execute_reply": "2021-12-05T20:20:02.894342Z",
          "shell.execute_reply.started": "2021-12-05T20:20:02.649857Z"
        },
        "id": "lZnfXUwXrPQt",
        "outputId": "df32daef-c1e6-41e9-e821-e9c372e2dc7e"
      },
      "outputs": [
        {
          "data": {
            "image/png": "[encoded data removed]",
            "text/plain": [
              "<Figure size 432x288 with 1 Axes>"
            ]
          },
          "metadata": {
            "needs_background": "light"
          },
          "output_type": "display_data"
        }
      ],
      "source": [
        "a.sort_values('lang_id', ascending=False).plot(kind='bar')\n",
        "plt.show()"
      ]
    },
    {
      "cell_type": "code",
      "execution_count": null,
      "metadata": {
        "execution": {
          "iopub.execute_input": "2021-12-05T20:20:02.898843Z",
          "iopub.status.busy": "2021-12-05T20:20:02.898509Z",
          "iopub.status.idle": "2021-12-05T20:20:02.904203Z",
          "shell.execute_reply": "2021-12-05T20:20:02.903240Z",
          "shell.execute_reply.started": "2021-12-05T20:20:02.898798Z"
        },
        "id": "5AKTS5N4rPQt"
      },
      "outputs": [],
      "source": [
        "from sklearn.feature_extraction.text import CountVectorizer"
      ]
    },
    {
      "cell_type": "code",
      "execution_count": null,
      "metadata": {
        "execution": {
          "iopub.execute_input": "2021-12-05T20:25:59.988284Z",
          "iopub.status.busy": "2021-12-05T20:25:59.987960Z",
          "iopub.status.idle": "2021-12-05T20:26:00.043736Z",
          "shell.execute_reply": "2021-12-05T20:26:00.042995Z",
          "shell.execute_reply.started": "2021-12-05T20:25:59.988247Z"
        },
        "id": "iCh1BjQKrPQt"
      },
      "outputs": [],
      "source": [
        "pattern_url = r'http[s]?://(?:[A-Za-z]|[0-9]|[$-_@.&+]|[!*\\(\\),]|(?:%[0-9A-Fa-f][0-9A-Fa-f]))+'\n",
        "subs_url = r'url-web'\n",
        "df_train_set['text'] = df_train_set['text'].replace(to_replace = pattern_url, value = subs_url, regex = True)"
      ]
    },
    {
      "cell_type": "code",
      "execution_count": null,
      "metadata": {
        "execution": {
          "iopub.execute_input": "2021-12-05T20:26:03.095798Z",
          "iopub.status.busy": "2021-12-05T20:26:03.094876Z",
          "iopub.status.idle": "2021-12-05T20:26:03.112131Z",
          "shell.execute_reply": "2021-12-05T20:26:03.111370Z",
          "shell.execute_reply.started": "2021-12-05T20:26:03.095754Z"
        },
        "id": "bU3qvV97rPQu"
      },
      "outputs": [],
      "source": [
        "pattern_url = r'http[s]?://(?:[A-Za-z]|[0-9]|[$-_@.&+]|[!*\\(\\),]|(?:%[0-9A-Fa-f][0-9A-Fa-f]))+'\n",
        "subs_url = r'url-web'\n",
        "df_test_set['text'] = df_test_set['text'].replace(to_replace = pattern_url, value = subs_url, regex = True)"
      ]
    },
    {
      "cell_type": "code",
      "execution_count": null,
      "metadata": {
        "execution": {
          "iopub.execute_input": "2021-12-05T20:26:12.229438Z",
          "iopub.status.busy": "2021-12-05T20:26:12.229146Z",
          "iopub.status.idle": "2021-12-05T20:26:12.238422Z",
          "shell.execute_reply": "2021-12-05T20:26:12.237581Z",
          "shell.execute_reply.started": "2021-12-05T20:26:12.229407Z"
        },
        "id": "e3lH-0LlrPQu",
        "outputId": "736bd552-d303-49be-ecb0-79f604148fe9"
      },
      "outputs": [
        {
          "data": {
            "text/html": [
              "<div>\n",
              "<style scoped>\n",
              "    .dataframe tbody tr th:only-of-type {\n",
              "        vertical-align: middle;\n",
              "    }\n",
              "\n",
              "    .dataframe tbody tr th {\n",
              "        vertical-align: top;\n",
              "    }\n",
              "\n",
              "    .dataframe thead th {\n",
              "        text-align: right;\n",
              "    }\n",
              "</style>\n",
              "<table border=\"1\" class=\"dataframe\">\n",
              "  <thead>\n",
              "    <tr style=\"text-align: right;\">\n",
              "      <th></th>\n",
              "      <th>lang_id</th>\n",
              "      <th>text</th>\n",
              "    </tr>\n",
              "  </thead>\n",
              "  <tbody>\n",
              "    <tr>\n",
              "      <th>0</th>\n",
              "      <td>xho</td>\n",
              "      <td>umgaqo-siseko wenza amalungiselelo kumaziko ax...</td>\n",
              "    </tr>\n",
              "    <tr>\n",
              "      <th>1</th>\n",
              "      <td>xho</td>\n",
              "      <td>i-dha iya kuba nobulumko bokubeka umsebenzi na...</td>\n",
              "    </tr>\n",
              "    <tr>\n",
              "      <th>2</th>\n",
              "      <td>eng</td>\n",
              "      <td>the province of kwazulu-natal department of tr...</td>\n",
              "    </tr>\n",
              "    <tr>\n",
              "      <th>3</th>\n",
              "      <td>nso</td>\n",
              "      <td>o netefatša gore o ba file dilo ka moka tše le...</td>\n",
              "    </tr>\n",
              "    <tr>\n",
              "      <th>4</th>\n",
              "      <td>ven</td>\n",
              "      <td>khomishini ya ndinganyiso ya mbeu yo ewa maana...</td>\n",
              "    </tr>\n",
              "  </tbody>\n",
              "</table>\n",
              "</div>"
            ],
            "text/plain": [
              "  lang_id                                               text\n",
              "0     xho  umgaqo-siseko wenza amalungiselelo kumaziko ax...\n",
              "1     xho  i-dha iya kuba nobulumko bokubeka umsebenzi na...\n",
              "2     eng  the province of kwazulu-natal department of tr...\n",
              "3     nso  o netefatša gore o ba file dilo ka moka tše le...\n",
              "4     ven  khomishini ya ndinganyiso ya mbeu yo ewa maana..."
            ]
          },
          "execution_count": 15,
          "metadata": {},
          "output_type": "execute_result"
        }
      ],
      "source": [
        "df_train_set.head()"
      ]
    },
    {
      "cell_type": "code",
      "execution_count": null,
      "metadata": {
        "execution": {
          "iopub.execute_input": "2021-12-05T20:31:56.939048Z",
          "iopub.status.busy": "2021-12-05T20:31:56.938704Z",
          "iopub.status.idle": "2021-12-05T20:31:56.954747Z",
          "shell.execute_reply": "2021-12-05T20:31:56.953877Z",
          "shell.execute_reply.started": "2021-12-05T20:31:56.938983Z"
        },
        "id": "KcbE-q8rrPQu",
        "outputId": "7930f4a8-39d3-4d7e-b9cc-da95f4af95b6"
      },
      "outputs": [
        {
          "data": {
            "text/plain": [
              "lang_id    0\n",
              "text       0\n",
              "dtype: int64"
            ]
          },
          "execution_count": 16,
          "metadata": {},
          "output_type": "execute_result"
        }
      ],
      "source": [
        "df_train_set.isnull().sum()"
      ]
    },
    {
      "cell_type": "code",
      "execution_count": null,
      "metadata": {
        "execution": {
          "iopub.execute_input": "2021-12-05T20:34:03.152720Z",
          "iopub.status.busy": "2021-12-05T20:34:03.152133Z",
          "iopub.status.idle": "2021-12-05T20:34:03.174936Z",
          "shell.execute_reply": "2021-12-05T20:34:03.174250Z",
          "shell.execute_reply.started": "2021-12-05T20:34:03.152666Z"
        },
        "id": "f5y4p9ehrPQv"
      },
      "outputs": [],
      "source": [
        "df_train_set['text'] = df_train_set['text'].str.lower()\n",
        "df_test_set['text'] = df_test_set['text'].str.lower()"
      ]
    },
    {
      "cell_type": "code",
      "execution_count": null,
      "metadata": {
        "execution": {
          "iopub.execute_input": "2021-12-05T20:34:29.735360Z",
          "iopub.status.busy": "2021-12-05T20:34:29.734862Z",
          "iopub.status.idle": "2021-12-05T20:34:29.740769Z",
          "shell.execute_reply": "2021-12-05T20:34:29.739814Z",
          "shell.execute_reply.started": "2021-12-05T20:34:29.735316Z"
        },
        "id": "uyZDOpfFrPQv",
        "outputId": "062f6324-5a6a-4f5b-a7d3-c1bd3e0da520"
      },
      "outputs": [
        {
          "name": "stdout",
          "output_type": "stream",
          "text": [
            "!\"#$%&'()*+,-./:;<=>?@[\\]^_`{|}~\n"
          ]
        }
      ],
      "source": [
        "import string\n",
        "print(string.punctuation)"
      ]
    },
    {
      "cell_type": "code",
      "execution_count": null,
      "metadata": {
        "execution": {
          "iopub.execute_input": "2021-12-05T20:34:49.263915Z",
          "iopub.status.busy": "2021-12-05T20:34:49.263151Z",
          "iopub.status.idle": "2021-12-05T20:34:49.268469Z",
          "shell.execute_reply": "2021-12-05T20:34:49.267526Z",
          "shell.execute_reply.started": "2021-12-05T20:34:49.263871Z"
        },
        "id": "ejs15tnprPQv"
      },
      "outputs": [],
      "source": [
        "def remove_punctuation(post):\n",
        "    return ''.join([l for l in post if l not in string.punctuation])"
      ]
    },
    {
      "cell_type": "code",
      "execution_count": null,
      "metadata": {
        "execution": {
          "iopub.execute_input": "2021-12-05T20:36:26.653610Z",
          "iopub.status.busy": "2021-12-05T20:36:26.650623Z",
          "iopub.status.idle": "2021-12-05T20:36:26.904659Z",
          "shell.execute_reply": "2021-12-05T20:36:26.903428Z",
          "shell.execute_reply.started": "2021-12-05T20:36:26.653546Z"
        },
        "id": "YFi1EwVWrPQw"
      },
      "outputs": [],
      "source": [
        "df_train_set['text'] = df_train_set['text'].apply(remove_punctuation)\n",
        "df_test_set['text'] = df_test_set['text'].apply(remove_punctuation)"
      ]
    },
    {
      "cell_type": "code",
      "execution_count": null,
      "metadata": {
        "id": "MiEIM5HrrPQw",
        "outputId": "ccabb25a-15a3-446a-bab3-0da5654ee43c"
      },
      "outputs": [
        {
          "data": {
            "text/html": [
              "<div>\n",
              "<style scoped>\n",
              "    .dataframe tbody tr th:only-of-type {\n",
              "        vertical-align: middle;\n",
              "    }\n",
              "\n",
              "    .dataframe tbody tr th {\n",
              "        vertical-align: top;\n",
              "    }\n",
              "\n",
              "    .dataframe thead th {\n",
              "        text-align: right;\n",
              "    }\n",
              "</style>\n",
              "<table border=\"1\" class=\"dataframe\">\n",
              "  <thead>\n",
              "    <tr style=\"text-align: right;\">\n",
              "      <th></th>\n",
              "      <th>lang_id</th>\n",
              "      <th>text</th>\n",
              "    </tr>\n",
              "  </thead>\n",
              "  <tbody>\n",
              "    <tr>\n",
              "      <th>0</th>\n",
              "      <td>xho</td>\n",
              "      <td>umgaqosiseko wenza amalungiselelo kumaziko axh...</td>\n",
              "    </tr>\n",
              "    <tr>\n",
              "      <th>1</th>\n",
              "      <td>xho</td>\n",
              "      <td>idha iya kuba nobulumko bokubeka umsebenzi nap...</td>\n",
              "    </tr>\n",
              "    <tr>\n",
              "      <th>2</th>\n",
              "      <td>eng</td>\n",
              "      <td>the province of kwazulunatal department of tra...</td>\n",
              "    </tr>\n",
              "    <tr>\n",
              "      <th>3</th>\n",
              "      <td>nso</td>\n",
              "      <td>o netefatša gore o ba file dilo ka moka tše le...</td>\n",
              "    </tr>\n",
              "    <tr>\n",
              "      <th>4</th>\n",
              "      <td>ven</td>\n",
              "      <td>khomishini ya ndinganyiso ya mbeu yo ewa maana...</td>\n",
              "    </tr>\n",
              "  </tbody>\n",
              "</table>\n",
              "</div>"
            ],
            "text/plain": [
              "  lang_id                                               text\n",
              "0     xho  umgaqosiseko wenza amalungiselelo kumaziko axh...\n",
              "1     xho  idha iya kuba nobulumko bokubeka umsebenzi nap...\n",
              "2     eng  the province of kwazulunatal department of tra...\n",
              "3     nso  o netefatša gore o ba file dilo ka moka tše le...\n",
              "4     ven  khomishini ya ndinganyiso ya mbeu yo ewa maana..."
            ]
          },
          "execution_count": 21,
          "metadata": {},
          "output_type": "execute_result"
        }
      ],
      "source": [
        "df_train_set.head()"
      ]
    },
    {
      "cell_type": "code",
      "execution_count": null,
      "metadata": {
        "id": "IeurtRulrPQw",
        "outputId": "2fe15e31-3644-44c3-8550-66e25d59d82e"
      },
      "outputs": [
        {
          "data": {
            "text/html": [
              "<div>\n",
              "<style scoped>\n",
              "    .dataframe tbody tr th:only-of-type {\n",
              "        vertical-align: middle;\n",
              "    }\n",
              "\n",
              "    .dataframe tbody tr th {\n",
              "        vertical-align: top;\n",
              "    }\n",
              "\n",
              "    .dataframe thead th {\n",
              "        text-align: right;\n",
              "    }\n",
              "</style>\n",
              "<table border=\"1\" class=\"dataframe\">\n",
              "  <thead>\n",
              "    <tr style=\"text-align: right;\">\n",
              "      <th></th>\n",
              "      <th>index</th>\n",
              "      <th>text</th>\n",
              "    </tr>\n",
              "  </thead>\n",
              "  <tbody>\n",
              "    <tr>\n",
              "      <th>0</th>\n",
              "      <td>1</td>\n",
              "      <td>mmasepala fa maemo a a kgethegileng a letlelel...</td>\n",
              "    </tr>\n",
              "    <tr>\n",
              "      <th>1</th>\n",
              "      <td>2</td>\n",
              "      <td>uzakwaziswa ngokufaneleko nakungafuneka eminye...</td>\n",
              "    </tr>\n",
              "    <tr>\n",
              "      <th>2</th>\n",
              "      <td>3</td>\n",
              "      <td>tshivhumbeo tshi fana na ngano dza vhathu</td>\n",
              "    </tr>\n",
              "    <tr>\n",
              "      <th>3</th>\n",
              "      <td>4</td>\n",
              "      <td>kube inja nelikati betingevakala kutsi titsini...</td>\n",
              "    </tr>\n",
              "    <tr>\n",
              "      <th>4</th>\n",
              "      <td>5</td>\n",
              "      <td>winste op buitelandse valuta</td>\n",
              "    </tr>\n",
              "  </tbody>\n",
              "</table>\n",
              "</div>"
            ],
            "text/plain": [
              "   index                                               text\n",
              "0      1  mmasepala fa maemo a a kgethegileng a letlelel...\n",
              "1      2  uzakwaziswa ngokufaneleko nakungafuneka eminye...\n",
              "2      3          tshivhumbeo tshi fana na ngano dza vhathu\n",
              "3      4  kube inja nelikati betingevakala kutsi titsini...\n",
              "4      5                       winste op buitelandse valuta"
            ]
          },
          "execution_count": 22,
          "metadata": {},
          "output_type": "execute_result"
        }
      ],
      "source": [
        "df_test_set.head()"
      ]
    },
    {
      "cell_type": "markdown",
      "metadata": {
        "id": "ZzmdSW2UrPQx"
      },
      "source": [
        "# Remove short words"
      ]
    },
    {
      "cell_type": "code",
      "execution_count": null,
      "metadata": {
        "id": "fyIL9KmqrPQy"
      },
      "outputs": [],
      "source": [
        "df_train_set['text'] = df_train_set['text'].str.findall('\\w{4,}').str.join(' ')\n",
        "\n",
        "df_test_set['text'] = df_test_set['text'].str.findall('\\w{4,}').str.join(' ')"
      ]
    },
    {
      "cell_type": "code",
      "execution_count": null,
      "metadata": {
        "id": "00wncbk8rPQy",
        "outputId": "6f748011-4f4e-4ba6-99b1-1ca5de1342ef"
      },
      "outputs": [
        {
          "data": {
            "text/html": [
              "<div>\n",
              "<style scoped>\n",
              "    .dataframe tbody tr th:only-of-type {\n",
              "        vertical-align: middle;\n",
              "    }\n",
              "\n",
              "    .dataframe tbody tr th {\n",
              "        vertical-align: top;\n",
              "    }\n",
              "\n",
              "    .dataframe thead th {\n",
              "        text-align: right;\n",
              "    }\n",
              "</style>\n",
              "<table border=\"1\" class=\"dataframe\">\n",
              "  <thead>\n",
              "    <tr style=\"text-align: right;\">\n",
              "      <th></th>\n",
              "      <th>lang_id</th>\n",
              "      <th>text</th>\n",
              "    </tr>\n",
              "  </thead>\n",
              "  <tbody>\n",
              "    <tr>\n",
              "      <th>0</th>\n",
              "      <td>xho</td>\n",
              "      <td>umgaqosiseko wenza amalungiselelo kumaziko axh...</td>\n",
              "    </tr>\n",
              "    <tr>\n",
              "      <th>1</th>\n",
              "      <td>xho</td>\n",
              "      <td>idha kuba nobulumko bokubeka umsebenzi naphi k...</td>\n",
              "    </tr>\n",
              "    <tr>\n",
              "      <th>2</th>\n",
              "      <td>eng</td>\n",
              "      <td>province kwazulunatal department transport inv...</td>\n",
              "    </tr>\n",
              "    <tr>\n",
              "      <th>3</th>\n",
              "      <td>nso</td>\n",
              "      <td>netefatša gore file dilo moka dumelelanego tšo...</td>\n",
              "    </tr>\n",
              "    <tr>\n",
              "      <th>4</th>\n",
              "      <td>ven</td>\n",
              "      <td>khomishini ndinganyiso mbeu maana mulayo khomi...</td>\n",
              "    </tr>\n",
              "  </tbody>\n",
              "</table>\n",
              "</div>"
            ],
            "text/plain": [
              "  lang_id                                               text\n",
              "0     xho  umgaqosiseko wenza amalungiselelo kumaziko axh...\n",
              "1     xho  idha kuba nobulumko bokubeka umsebenzi naphi k...\n",
              "2     eng  province kwazulunatal department transport inv...\n",
              "3     nso  netefatša gore file dilo moka dumelelanego tšo...\n",
              "4     ven  khomishini ndinganyiso mbeu maana mulayo khomi..."
            ]
          },
          "execution_count": 24,
          "metadata": {},
          "output_type": "execute_result"
        }
      ],
      "source": [
        "df_train_set.head()"
      ]
    },
    {
      "cell_type": "code",
      "execution_count": null,
      "metadata": {
        "id": "FqlOgsWxrPQy",
        "outputId": "7b6a0a8a-1fc0-465b-ff63-3527c098aacc"
      },
      "outputs": [
        {
          "data": {
            "text/html": [
              "<div>\n",
              "<style scoped>\n",
              "    .dataframe tbody tr th:only-of-type {\n",
              "        vertical-align: middle;\n",
              "    }\n",
              "\n",
              "    .dataframe tbody tr th {\n",
              "        vertical-align: top;\n",
              "    }\n",
              "\n",
              "    .dataframe thead th {\n",
              "        text-align: right;\n",
              "    }\n",
              "</style>\n",
              "<table border=\"1\" class=\"dataframe\">\n",
              "  <thead>\n",
              "    <tr style=\"text-align: right;\">\n",
              "      <th></th>\n",
              "      <th>index</th>\n",
              "      <th>text</th>\n",
              "    </tr>\n",
              "  </thead>\n",
              "  <tbody>\n",
              "    <tr>\n",
              "      <th>0</th>\n",
              "      <td>1</td>\n",
              "      <td>mmasepala maemo kgethegileng letlelela kgato</td>\n",
              "    </tr>\n",
              "    <tr>\n",
              "      <th>1</th>\n",
              "      <td>2</td>\n",
              "      <td>uzakwaziswa ngokufaneleko nakungafuneka eminye...</td>\n",
              "    </tr>\n",
              "    <tr>\n",
              "      <th>2</th>\n",
              "      <td>3</td>\n",
              "      <td>tshivhumbeo tshi fana ngano vhathu</td>\n",
              "    </tr>\n",
              "    <tr>\n",
              "      <th>3</th>\n",
              "      <td>4</td>\n",
              "      <td>kube inja nelikati betingevakala kutsi titsini...</td>\n",
              "    </tr>\n",
              "    <tr>\n",
              "      <th>4</th>\n",
              "      <td>5</td>\n",
              "      <td>winste buitelandse valuta</td>\n",
              "    </tr>\n",
              "  </tbody>\n",
              "</table>\n",
              "</div>"
            ],
            "text/plain": [
              "   index                                               text\n",
              "0      1       mmasepala maemo kgethegileng letlelela kgato\n",
              "1      2  uzakwaziswa ngokufaneleko nakungafuneka eminye...\n",
              "2      3                 tshivhumbeo tshi fana ngano vhathu\n",
              "3      4  kube inja nelikati betingevakala kutsi titsini...\n",
              "4      5                          winste buitelandse valuta"
            ]
          },
          "execution_count": 25,
          "metadata": {},
          "output_type": "execute_result"
        }
      ],
      "source": [
        "df_test_set.head()"
      ]
    },
    {
      "cell_type": "code",
      "execution_count": null,
      "metadata": {
        "id": "_Ghim287rPQz"
      },
      "outputs": [],
      "source": [
        "from sklearn.feature_extraction.text import CountVectorizer\n",
        "count_vec = CountVectorizer()"
      ]
    },
    {
      "cell_type": "code",
      "execution_count": null,
      "metadata": {
        "id": "XfwZmmDIrPQz"
      },
      "outputs": [],
      "source": [
        "train = count_vec.fit_transform(df_train_set['text'])\n",
        "test = count_vec.transform(df_test_set['text'])"
      ]
    },
    {
      "cell_type": "code",
      "execution_count": null,
      "metadata": {
        "id": "I5jTtX17rPQz",
        "outputId": "87635ba3-a15e-44f2-aaa6-0bbddbb730c4"
      },
      "outputs": [
        {
          "name": "stdout",
          "output_type": "stream",
          "text": [
            "(33000, 142249)\n",
            "(5682, 142249)\n"
          ]
        }
      ],
      "source": [
        "print(train.shape)\n",
        "print(test.shape)"
      ]
    },
    {
      "cell_type": "code",
      "execution_count": null,
      "metadata": {
        "id": "UYVQyx_4rPQ0"
      },
      "outputs": [],
      "source": [
        "from sklearn.naive_bayes import MultinomialNB\n"
      ]
    },
    {
      "cell_type": "code",
      "execution_count": null,
      "metadata": {
        "id": "amjqJENtrPQ0"
      },
      "outputs": [],
      "source": [
        "clf = MultinomialNB().fit(train, df_train_set['lang_id'])"
      ]
    },
    {
      "cell_type": "markdown",
      "metadata": {
        "id": "vzXWXoMOrPQ0"
      },
      "source": [
        "# Make predictions"
      ]
    },
    {
      "cell_type": "code",
      "execution_count": null,
      "metadata": {
        "id": "PT8n0NiDrPQ0",
        "outputId": "15729a20-ac07-4417-c0ed-5f52bba8e4e0"
      },
      "outputs": [
        {
          "data": {
            "text/plain": [
              "array(['tsn', 'nbl', 'ven', ..., 'sot', 'sot', 'nbl'], dtype='<U3')"
            ]
          },
          "execution_count": 40,
          "metadata": {},
          "output_type": "execute_result"
        }
      ],
      "source": [
        "predict = clf.predict(test)\n",
        "predict"
      ]
    },
    {
      "cell_type": "markdown",
      "metadata": {
        "id": "jtpGQx1_rPQ0"
      },
      "source": [
        "# Save the results to a CSV file"
      ]
    },
    {
      "cell_type": "code",
      "execution_count": null,
      "metadata": {
        "id": "7ngJQQSOrPQ0"
      },
      "outputs": [],
      "source": [
        "results = pd.DataFrame({'index':df_test_set['index'],'lang_id':predict})\n",
        "results.to_csv('submition.csv',index=False)"
      ]
    },
    {
      "cell_type": "code",
      "execution_count": null,
      "metadata": {
        "id": "bJAjxKf9rPQ1",
        "outputId": "e56ba4c6-7ad2-4b62-d297-b81ab40ba2fa"
      },
      "outputs": [
        {
          "data": {
            "text/html": [
              "<div>\n",
              "<style scoped>\n",
              "    .dataframe tbody tr th:only-of-type {\n",
              "        vertical-align: middle;\n",
              "    }\n",
              "\n",
              "    .dataframe tbody tr th {\n",
              "        vertical-align: top;\n",
              "    }\n",
              "\n",
              "    .dataframe thead th {\n",
              "        text-align: right;\n",
              "    }\n",
              "</style>\n",
              "<table border=\"1\" class=\"dataframe\">\n",
              "  <thead>\n",
              "    <tr style=\"text-align: right;\">\n",
              "      <th></th>\n",
              "      <th>index</th>\n",
              "      <th>lang_id</th>\n",
              "    </tr>\n",
              "  </thead>\n",
              "  <tbody>\n",
              "    <tr>\n",
              "      <th>0</th>\n",
              "      <td>1</td>\n",
              "      <td>tsn</td>\n",
              "    </tr>\n",
              "    <tr>\n",
              "      <th>1</th>\n",
              "      <td>2</td>\n",
              "      <td>nbl</td>\n",
              "    </tr>\n",
              "    <tr>\n",
              "      <th>2</th>\n",
              "      <td>3</td>\n",
              "      <td>ven</td>\n",
              "    </tr>\n",
              "    <tr>\n",
              "      <th>3</th>\n",
              "      <td>4</td>\n",
              "      <td>ssw</td>\n",
              "    </tr>\n",
              "    <tr>\n",
              "      <th>4</th>\n",
              "      <td>5</td>\n",
              "      <td>afr</td>\n",
              "    </tr>\n",
              "  </tbody>\n",
              "</table>\n",
              "</div>"
            ],
            "text/plain": [
              "   index lang_id\n",
              "0      1     tsn\n",
              "1      2     nbl\n",
              "2      3     ven\n",
              "3      4     ssw\n",
              "4      5     afr"
            ]
          },
          "execution_count": 43,
          "metadata": {},
          "output_type": "execute_result"
        }
      ],
      "source": [
        "results.head()"
      ]
    },
    {
      "cell_type": "code",
      "execution_count": null,
      "metadata": {
        "id": "Uwnf2xWdrPQ1"
      },
      "outputs": [],
      "source": [
        ""
      ]
    }
  ],
  "metadata": {
    "kernelspec": {
      "display_name": "Python 3",
      "language": "python",
      "name": "python3"
    },
    "language_info": {
      "codemirror_mode": {
        "name": "ipython",
        "version": 3
      },
      "file_extension": ".py",
      "mimetype": "text/x-python",
      "name": "python",
      "nbconvert_exporter": "python",
      "pygments_lexer": "ipython3",
      "version": "3.7.6"
    },
    "colab": {
      "name": "abigail-mulambo-language-identification-hackathon (1).ipynb",
      "provenance": [],
      "include_colab_link": true
    }
  },
  "nbformat": 4,
  "nbformat_minor": 0
}